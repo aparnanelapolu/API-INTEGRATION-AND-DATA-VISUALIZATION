{
  "nbformat": 4,
  "nbformat_minor": 0,
  "metadata": {
    "colab": {
      "provenance": []
    },
    "kernelspec": {
      "name": "python3",
      "display_name": "Python 3"
    },
    "language_info": {
      "name": "python"
    }
  },
  "cells": [
    {
      "cell_type": "code",
      "execution_count": 2,
      "metadata": {
        "colab": {
          "base_uri": "https://localhost:8080/"
        },
        "id": "YMRxi1xHPiJV",
        "outputId": "ee4b5a74-48bf-4232-eb8b-12f33e625b22"
      },
      "outputs": [
        {
          "output_type": "stream",
          "name": "stdout",
          "text": [
            "Error fetching data from API. Status code: 401\n"
          ]
        }
      ],
      "source": [
        "import requests\n",
        "import matplotlib.pyplot as plt\n",
        "from datetime import datetime\n",
        "\n",
        "API_KEY = 'your_api_key'  # Replace with your OpenWeatherMap API key\n",
        "CITY = 'London'\n",
        "URL = f'http://api.openweathermap.org/data/2.5/forecast?q={CITY}&cnt=7&units=metric&appid={API_KEY}'\n",
        "\n",
        "# Send GET request to the API\n",
        "response = requests.get(URL)\n",
        "\n",
        "# Check if the request was successful\n",
        "if response.status_code == 200:\n",
        "    data = response.json()\n",
        "\n",
        "    dates = []\n",
        "    temperatures = []\n",
        "\n",
        "    for item in data['list']:\n",
        "        # Convert timestamp to a readable date\n",
        "        date = datetime.utcfromtimestamp(item['dt']).strftime('%Y-%m-%d')\n",
        "        temperature = item['main']['temp']\n",
        "\n",
        "        dates.append(date)\n",
        "        temperatures.append(temperature)\n",
        "\n",
        "    plt.figure(figsize=(10, 6))\n",
        "    plt.plot(dates, temperatures, marker='o', color='b', linestyle='-', label='Temperature (°C)')\n",
        "\n",
        "    plt.title(f'Temperature Trends for {CITY} (Next 7 Days)', fontsize=14)\n",
        "    plt.xlabel('Date', fontsize=12)\n",
        "    plt.ylabel('Temperature (°C)', fontsize=12)\n",
        "    plt.xticks(rotation=45)\n",
        "    plt.grid(True)\n",
        "    plt.tight_layout()\n",
        "    plt.legend()\n",
        "\n",
        "    # Show the plot\n",
        "    plt.show()\n",
        "\n",
        "else:\n",
        "    print(f\"Error fetching data from API. Status code: {response.status_code}\")\n",
        "\n"
      ]
    }
  ]
}